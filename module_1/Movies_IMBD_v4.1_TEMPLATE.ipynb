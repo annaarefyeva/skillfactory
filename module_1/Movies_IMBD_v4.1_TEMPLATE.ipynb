{
 "cells": [
  {
   "cell_type": "code",
   "execution_count": 34,
   "metadata": {
    "_cell_guid": "b1076dfc-b9ad-4769-8c92-a6c4dae69d19",
    "_uuid": "8f2839f25d086af736a60e9eeb907d3b93b6e0e5",
    "colab": {},
    "colab_type": "code",
    "id": "U2D2gTdJVp90"
   },
   "outputs": [],
   "source": [
    "import numpy as np\n",
    "import pandas as pd\n",
    "import seaborn as sns\n",
    "import matplotlib.pyplot as plt\n",
    "from collections import Counter\n",
    "import itertools\n",
    "from itertools import combinations"
   ]
  },
  {
   "cell_type": "code",
   "execution_count": 3,
   "metadata": {
    "_cell_guid": "79c7e3d0-c299-4dcb-8224-4455121ee9b0",
    "_uuid": "d629ff2d2480ee46fbb7e2d37f6b5fab8052498a",
    "colab": {},
    "colab_type": "code",
    "id": "oyGfxL3eVp9-"
   },
   "outputs": [
    {
     "data": {
      "text/html": [
       "<div>\n",
       "<style scoped>\n",
       "    .dataframe tbody tr th:only-of-type {\n",
       "        vertical-align: middle;\n",
       "    }\n",
       "\n",
       "    .dataframe tbody tr th {\n",
       "        vertical-align: top;\n",
       "    }\n",
       "\n",
       "    .dataframe thead th {\n",
       "        text-align: right;\n",
       "    }\n",
       "</style>\n",
       "<table border=\"1\" class=\"dataframe\">\n",
       "  <thead>\n",
       "    <tr style=\"text-align: right;\">\n",
       "      <th></th>\n",
       "      <th>imdb_id</th>\n",
       "      <th>budget</th>\n",
       "      <th>revenue</th>\n",
       "      <th>original_title</th>\n",
       "      <th>cast</th>\n",
       "      <th>director</th>\n",
       "      <th>tagline</th>\n",
       "      <th>overview</th>\n",
       "      <th>runtime</th>\n",
       "      <th>genres</th>\n",
       "      <th>production_companies</th>\n",
       "      <th>release_date</th>\n",
       "      <th>vote_average</th>\n",
       "      <th>release_year</th>\n",
       "    </tr>\n",
       "  </thead>\n",
       "  <tbody>\n",
       "    <tr>\n",
       "      <th>1595</th>\n",
       "      <td>tt0265208</td>\n",
       "      <td>25000000</td>\n",
       "      <td>30411183</td>\n",
       "      <td>The Girl Next Door</td>\n",
       "      <td>Emile Hirsch|Elisha Cuthbert|Timothy Olyphant|...</td>\n",
       "      <td>Luke Greenfield</td>\n",
       "      <td>Matt never saw her coming... but all his frien...</td>\n",
       "      <td>Exceptionally ambitious high schooler Matthew ...</td>\n",
       "      <td>108</td>\n",
       "      <td>Comedy</td>\n",
       "      <td>Regency Enterprises|Epsilon Motion Pictures|Ne...</td>\n",
       "      <td>4/9/2004</td>\n",
       "      <td>6.2</td>\n",
       "      <td>2004</td>\n",
       "    </tr>\n",
       "    <tr>\n",
       "      <th>1154</th>\n",
       "      <td>tt0340855</td>\n",
       "      <td>8000000</td>\n",
       "      <td>60378584</td>\n",
       "      <td>Monster</td>\n",
       "      <td>Charlize Theron|Christina Ricci|Bruce Dern|Lee...</td>\n",
       "      <td>Patty Jenkins</td>\n",
       "      <td>Based on a true story.</td>\n",
       "      <td>Aileen Wuornos is an emotionally scarred highw...</td>\n",
       "      <td>110</td>\n",
       "      <td>Crime|Drama</td>\n",
       "      <td>Newmarket Films</td>\n",
       "      <td>11/16/2003</td>\n",
       "      <td>6.8</td>\n",
       "      <td>2003</td>\n",
       "    </tr>\n",
       "    <tr>\n",
       "      <th>1854</th>\n",
       "      <td>tt0158622</td>\n",
       "      <td>83000000</td>\n",
       "      <td>59468275</td>\n",
       "      <td>The Flintstones in Viva Rock Vegas</td>\n",
       "      <td>Mark Addy|Stephen Baldwin|Kristen Johnston|Jan...</td>\n",
       "      <td>Brian Levant</td>\n",
       "      <td>Get ready to rock!</td>\n",
       "      <td>The Flintstones are at it again. The Flintston...</td>\n",
       "      <td>90</td>\n",
       "      <td>Science Fiction|Comedy|Family|Romance</td>\n",
       "      <td>Universal Pictures|Amblin Entertainment</td>\n",
       "      <td>4/28/2000</td>\n",
       "      <td>4.4</td>\n",
       "      <td>2000</td>\n",
       "    </tr>\n",
       "    <tr>\n",
       "      <th>1807</th>\n",
       "      <td>tt0120917</td>\n",
       "      <td>100000000</td>\n",
       "      <td>169327687</td>\n",
       "      <td>The Emperor's New Groove</td>\n",
       "      <td>David Spade|John Goodman|Eartha Kitt|Patrick W...</td>\n",
       "      <td>Mark Dindal</td>\n",
       "      <td>It's All About.....ME!</td>\n",
       "      <td>Kuzco is a self-centered emperor who summons P...</td>\n",
       "      <td>78</td>\n",
       "      <td>Adventure|Animation|Comedy|Family|Fantasy</td>\n",
       "      <td>Walt Disney Pictures|Walt Disney Feature Anima...</td>\n",
       "      <td>12/9/2000</td>\n",
       "      <td>6.9</td>\n",
       "      <td>2000</td>\n",
       "    </tr>\n",
       "    <tr>\n",
       "      <th>312</th>\n",
       "      <td>tt0971209</td>\n",
       "      <td>14000000</td>\n",
       "      <td>22852638</td>\n",
       "      <td>A Perfect Getaway</td>\n",
       "      <td>Milla Jovovich|Timothy Olyphant|Steve Zahn|Chr...</td>\n",
       "      <td>David Twohy</td>\n",
       "      <td>Welcome to paradise. Enter at your own risk.</td>\n",
       "      <td>For their honeymoon, newlyweds Cliff and Cydne...</td>\n",
       "      <td>98</td>\n",
       "      <td>Thriller|Mystery|Adventure</td>\n",
       "      <td>Davis Entertainment|Relativity Media|Rogue|QED...</td>\n",
       "      <td>6/8/2009</td>\n",
       "      <td>6.1</td>\n",
       "      <td>2009</td>\n",
       "    </tr>\n",
       "  </tbody>\n",
       "</table>\n",
       "</div>"
      ],
      "text/plain": [
       "        imdb_id     budget    revenue                      original_title  \\\n",
       "1595  tt0265208   25000000   30411183                  The Girl Next Door   \n",
       "1154  tt0340855    8000000   60378584                             Monster   \n",
       "1854  tt0158622   83000000   59468275  The Flintstones in Viva Rock Vegas   \n",
       "1807  tt0120917  100000000  169327687            The Emperor's New Groove   \n",
       "312   tt0971209   14000000   22852638                   A Perfect Getaway   \n",
       "\n",
       "                                                   cast         director  \\\n",
       "1595  Emile Hirsch|Elisha Cuthbert|Timothy Olyphant|...  Luke Greenfield   \n",
       "1154  Charlize Theron|Christina Ricci|Bruce Dern|Lee...    Patty Jenkins   \n",
       "1854  Mark Addy|Stephen Baldwin|Kristen Johnston|Jan...     Brian Levant   \n",
       "1807  David Spade|John Goodman|Eartha Kitt|Patrick W...      Mark Dindal   \n",
       "312   Milla Jovovich|Timothy Olyphant|Steve Zahn|Chr...      David Twohy   \n",
       "\n",
       "                                                tagline  \\\n",
       "1595  Matt never saw her coming... but all his frien...   \n",
       "1154                             Based on a true story.   \n",
       "1854                                 Get ready to rock!   \n",
       "1807                             It's All About.....ME!   \n",
       "312        Welcome to paradise. Enter at your own risk.   \n",
       "\n",
       "                                               overview  runtime  \\\n",
       "1595  Exceptionally ambitious high schooler Matthew ...      108   \n",
       "1154  Aileen Wuornos is an emotionally scarred highw...      110   \n",
       "1854  The Flintstones are at it again. The Flintston...       90   \n",
       "1807  Kuzco is a self-centered emperor who summons P...       78   \n",
       "312   For their honeymoon, newlyweds Cliff and Cydne...       98   \n",
       "\n",
       "                                         genres  \\\n",
       "1595                                     Comedy   \n",
       "1154                                Crime|Drama   \n",
       "1854      Science Fiction|Comedy|Family|Romance   \n",
       "1807  Adventure|Animation|Comedy|Family|Fantasy   \n",
       "312                  Thriller|Mystery|Adventure   \n",
       "\n",
       "                                   production_companies release_date  \\\n",
       "1595  Regency Enterprises|Epsilon Motion Pictures|Ne...     4/9/2004   \n",
       "1154                                    Newmarket Films   11/16/2003   \n",
       "1854            Universal Pictures|Amblin Entertainment    4/28/2000   \n",
       "1807  Walt Disney Pictures|Walt Disney Feature Anima...    12/9/2000   \n",
       "312   Davis Entertainment|Relativity Media|Rogue|QED...     6/8/2009   \n",
       "\n",
       "      vote_average  release_year  \n",
       "1595           6.2          2004  \n",
       "1154           6.8          2003  \n",
       "1854           4.4          2000  \n",
       "1807           6.9          2000  \n",
       "312            6.1          2009  "
      ]
     },
     "execution_count": 3,
     "metadata": {},
     "output_type": "execute_result"
    }
   ],
   "source": [
    "data = pd.read_csv('movie_bd_v5.csv')\n",
    "data.sample(5)"
   ]
  },
  {
   "cell_type": "code",
   "execution_count": 7,
   "metadata": {
    "colab": {},
    "colab_type": "code",
    "id": "CoYUnagMVp-C"
   },
   "outputs": [
    {
     "data": {
      "text/html": [
       "<div>\n",
       "<style scoped>\n",
       "    .dataframe tbody tr th:only-of-type {\n",
       "        vertical-align: middle;\n",
       "    }\n",
       "\n",
       "    .dataframe tbody tr th {\n",
       "        vertical-align: top;\n",
       "    }\n",
       "\n",
       "    .dataframe thead th {\n",
       "        text-align: right;\n",
       "    }\n",
       "</style>\n",
       "<table border=\"1\" class=\"dataframe\">\n",
       "  <thead>\n",
       "    <tr style=\"text-align: right;\">\n",
       "      <th></th>\n",
       "      <th>budget</th>\n",
       "      <th>revenue</th>\n",
       "      <th>runtime</th>\n",
       "      <th>vote_average</th>\n",
       "      <th>release_year</th>\n",
       "    </tr>\n",
       "  </thead>\n",
       "  <tbody>\n",
       "    <tr>\n",
       "      <th>count</th>\n",
       "      <td>1.889000e+03</td>\n",
       "      <td>1.889000e+03</td>\n",
       "      <td>1889.000000</td>\n",
       "      <td>1889.000000</td>\n",
       "      <td>1889.000000</td>\n",
       "    </tr>\n",
       "    <tr>\n",
       "      <th>mean</th>\n",
       "      <td>5.431083e+07</td>\n",
       "      <td>1.553653e+08</td>\n",
       "      <td>109.658549</td>\n",
       "      <td>6.140762</td>\n",
       "      <td>2007.860773</td>\n",
       "    </tr>\n",
       "    <tr>\n",
       "      <th>std</th>\n",
       "      <td>4.858721e+07</td>\n",
       "      <td>2.146698e+08</td>\n",
       "      <td>18.017041</td>\n",
       "      <td>0.764763</td>\n",
       "      <td>4.468841</td>\n",
       "    </tr>\n",
       "    <tr>\n",
       "      <th>min</th>\n",
       "      <td>5.000000e+06</td>\n",
       "      <td>2.033165e+06</td>\n",
       "      <td>63.000000</td>\n",
       "      <td>3.300000</td>\n",
       "      <td>2000.000000</td>\n",
       "    </tr>\n",
       "    <tr>\n",
       "      <th>25%</th>\n",
       "      <td>2.000000e+07</td>\n",
       "      <td>3.456058e+07</td>\n",
       "      <td>97.000000</td>\n",
       "      <td>5.600000</td>\n",
       "      <td>2004.000000</td>\n",
       "    </tr>\n",
       "    <tr>\n",
       "      <th>50%</th>\n",
       "      <td>3.800000e+07</td>\n",
       "      <td>8.361541e+07</td>\n",
       "      <td>107.000000</td>\n",
       "      <td>6.100000</td>\n",
       "      <td>2008.000000</td>\n",
       "    </tr>\n",
       "    <tr>\n",
       "      <th>75%</th>\n",
       "      <td>7.200000e+07</td>\n",
       "      <td>1.782626e+08</td>\n",
       "      <td>120.000000</td>\n",
       "      <td>6.600000</td>\n",
       "      <td>2012.000000</td>\n",
       "    </tr>\n",
       "    <tr>\n",
       "      <th>max</th>\n",
       "      <td>3.800000e+08</td>\n",
       "      <td>2.781506e+09</td>\n",
       "      <td>214.000000</td>\n",
       "      <td>8.100000</td>\n",
       "      <td>2015.000000</td>\n",
       "    </tr>\n",
       "  </tbody>\n",
       "</table>\n",
       "</div>"
      ],
      "text/plain": [
       "             budget       revenue      runtime  vote_average  release_year\n",
       "count  1.889000e+03  1.889000e+03  1889.000000   1889.000000   1889.000000\n",
       "mean   5.431083e+07  1.553653e+08   109.658549      6.140762   2007.860773\n",
       "std    4.858721e+07  2.146698e+08    18.017041      0.764763      4.468841\n",
       "min    5.000000e+06  2.033165e+06    63.000000      3.300000   2000.000000\n",
       "25%    2.000000e+07  3.456058e+07    97.000000      5.600000   2004.000000\n",
       "50%    3.800000e+07  8.361541e+07   107.000000      6.100000   2008.000000\n",
       "75%    7.200000e+07  1.782626e+08   120.000000      6.600000   2012.000000\n",
       "max    3.800000e+08  2.781506e+09   214.000000      8.100000   2015.000000"
      ]
     },
     "execution_count": 7,
     "metadata": {},
     "output_type": "execute_result"
    }
   ],
   "source": [
    "data.describe()"
   ]
  },
  {
   "cell_type": "markdown",
   "metadata": {
    "colab_type": "text",
    "id": "DTIt7ezGVp-G"
   },
   "source": [
    "# Предобработка"
   ]
  },
  {
   "cell_type": "code",
   "execution_count": 36,
   "metadata": {
    "colab": {},
    "colab_type": "code",
    "id": "jNb40DwKVp-H"
   },
   "outputs": [],
   "source": [
    "answers = {} # создадим словарь для ответов\n",
    "\n",
    "# тут другие ваши предобработки колонок например:\n",
    "\n",
    "#the time given in the dataset is in string format.\n",
    "#So we need to change this in datetime format\n",
    "# ...\n",
    "\n",
    "movie_1214 = data[(data.release_year >= 2012) & (data.release_year <= 2014)] # DataFrame с фильмами 2012 и 2014 года\n",
    "data['profit'] = data['revenue'] - data['budget'] # Cтолбец с прибылью фильмов\n",
    "movie_profit = data[data.profit>0] # DataFrame с прибыльными фильмами \n",
    "movie_Action = data[data.genres.str.contains('Action')] # DataFrame с фильмами жанра Action\n",
    "movie_budget = data[data.budget > data.budget.mean()] # DataFrame с высокобюджетными фильмами\n",
    "movie_2012 = data[data.release_year == 2012] # DataFrame с фильмами 2012 года\n",
    "movie_Cage = data[data.cast.str.contains('Nicolas Cage')] # DataFrame с фильмами, в которых снимался Nicolas Cage\n",
    "movie_Paramount = data[data.production_companies.str.contains('Paramount Pictures')]  # DataFrame с фильмами от Paramount\n",
    "movie_Warner = data[data.production_companies.str.contains('Warner Bros')] # DataFrame с фильмами от Warner Bros\n",
    "data['month'] = data['release_date'].apply(lambda d: d.split('/')[0]) # Столбец с номером месяца в DataFrame data\n",
    "movie_winter = data[(data.month == '12') | (data.month == '1') | (data.month == '2')] # DataFrame из фильмов, снятых зимой\n",
    "data['length_title'] = data.original_title.str.len() # Столбец с длинной слова названия фильма\n",
    "data['list_production'] = data['production_companies']\\\n",
    ".apply(lambda c: c.split(sep = '|')) # Столбец с режиссёрами фильма в виде списка в каждой ячейке\n",
    "data['count_words'] = data.overview.apply(lambda c: c.split(sep = ' ')).str.len() # Столбец с количеством слов в описании\n",
    "data['list_actors'] = data['cast'].apply(lambda c: c.split(sep = '|')) # Столбец со списком актеров фильма в ячейке"
   ]
  },
  {
   "cell_type": "markdown",
   "metadata": {
    "colab_type": "text",
    "id": "YxZaH-nPVp-L"
   },
   "source": [
    "# 1. У какого фильма из списка самый большой бюджет?"
   ]
  },
  {
   "cell_type": "markdown",
   "metadata": {
    "colab_type": "text",
    "id": "Nd-G5gX6Vp-M"
   },
   "source": [
    "Использовать варианты ответов в коде решения запрещено.    \n",
    "Вы думаете и в жизни у вас будут варианты ответов?)"
   ]
  },
  {
   "cell_type": "code",
   "execution_count": 43,
   "metadata": {
    "colab": {},
    "colab_type": "code",
    "id": "uVnXAY5RVp-O"
   },
   "outputs": [],
   "source": [
    "# в словарь вставляем номер вопроса и ваш ответ на него\n",
    "# Пример: \n",
    "answers['1'] = '2. Spider-Man 3 (tt0413300)'\n",
    "# запишите свой вариант ответа\n",
    "answers['1'] = '5. Pirates of the Caribbean: On Stranger Tides (tt1298650)' #+\n",
    "# если ответили верно, можете добавить комментарий со значком \"+\""
   ]
  },
  {
   "cell_type": "code",
   "execution_count": 9,
   "metadata": {
    "colab": {},
    "colab_type": "code",
    "id": "dZwb3m28Vp-S"
   },
   "outputs": [
    {
     "data": {
      "text/plain": [
       "723    Pirates of the Caribbean: On Stranger Tides\n",
       "Name: original_title, dtype: object"
      ]
     },
     "metadata": {},
     "output_type": "display_data"
    }
   ],
   "source": [
    "# тут пишем ваш код для решения данного вопроса:\n",
    "movie_max = data[(data.budget == data.budget.max())].original_title\n",
    "display(movie_max)\n"
   ]
  },
  {
   "cell_type": "markdown",
   "metadata": {
    "colab_type": "text",
    "id": "K7L3nbRXVp-X"
   },
   "source": [
    "ВАРИАНТ 2"
   ]
  },
  {
   "cell_type": "code",
   "execution_count": 0,
   "metadata": {
    "colab": {},
    "colab_type": "code",
    "id": "OGaoQI7rVp-X"
   },
   "outputs": [],
   "source": [
    "# можно добавлять разные варианты решения"
   ]
  },
  {
   "cell_type": "markdown",
   "metadata": {
    "colab_type": "text",
    "id": "FNRbbI3vVp-c"
   },
   "source": [
    "# 2. Какой из фильмов самый длительный (в минутах)?"
   ]
  },
  {
   "cell_type": "code",
   "execution_count": 44,
   "metadata": {
    "colab": {},
    "colab_type": "code",
    "id": "vHAoEXNTVp-d"
   },
   "outputs": [],
   "source": [
    "# думаю логику работы с этим словарем вы уже поняли, \n",
    "# по этому не буду больше его дублировать\n",
    "answers['2'] = '2. Gods and Generals (tt0279111)' #+"
   ]
  },
  {
   "cell_type": "code",
   "execution_count": 10,
   "metadata": {
    "colab": {},
    "colab_type": "code",
    "id": "ot-VX2XrVp-g"
   },
   "outputs": [
    {
     "data": {
      "text/plain": [
       "1157    Gods and Generals\n",
       "Name: original_title, dtype: object"
      ]
     },
     "metadata": {},
     "output_type": "display_data"
    }
   ],
   "source": [
    "runtime_max = data[(data.runtime == data.runtime.max())].original_title\n",
    "display(runtime_max)"
   ]
  },
  {
   "cell_type": "markdown",
   "metadata": {
    "colab_type": "text",
    "id": "bapLlpW8Vp-k"
   },
   "source": [
    "# 3. Какой из фильмов самый короткий (в минутах)?\n",
    "\n",
    "\n",
    "\n"
   ]
  },
  {
   "cell_type": "code",
   "execution_count": 45,
   "metadata": {
    "colab": {},
    "colab_type": "code",
    "id": "YBxaSHuAVp-l"
   },
   "outputs": [
    {
     "data": {
      "text/plain": [
       "768    Winnie the Pooh\n",
       "Name: original_title, dtype: object"
      ]
     },
     "metadata": {},
     "output_type": "display_data"
    }
   ],
   "source": [
    "answers['3'] = '3. Winnie the Pooh (tt1449283)'\n",
    "runtime_min = data[(data.runtime == data.runtime.min())].original_title\n",
    "display(runtime_min)"
   ]
  },
  {
   "cell_type": "markdown",
   "metadata": {
    "colab_type": "text",
    "id": "TfQbxbfNVp-p"
   },
   "source": [
    "# 4. Какова средняя длительность фильмов?\n"
   ]
  },
  {
   "cell_type": "code",
   "execution_count": 46,
   "metadata": {
    "colab": {},
    "colab_type": "code",
    "id": "5K6dKZYVVp-q"
   },
   "outputs": [
    {
     "name": "stdout",
     "output_type": "stream",
     "text": [
      "109.6585494970884\n"
     ]
    }
   ],
   "source": [
    "answers['4'] = '2. 110' #+\n",
    "runtime_mean = data.runtime.mean()\n",
    "print(runtime_mean)"
   ]
  },
  {
   "cell_type": "markdown",
   "metadata": {
    "colab_type": "text",
    "id": "r5TvbnT_Vp-u"
   },
   "source": [
    "# 5. Каково медианное значение длительности фильмов? "
   ]
  },
  {
   "cell_type": "code",
   "execution_count": 47,
   "metadata": {
    "colab": {},
    "colab_type": "code",
    "id": "iBROplKnVp-v"
   },
   "outputs": [
    {
     "name": "stdout",
     "output_type": "stream",
     "text": [
      "107.0\n"
     ]
    }
   ],
   "source": [
    "answers['5'] = '1. 107'\n",
    "runtime_median = data.runtime.median()\n",
    "print(runtime_median)"
   ]
  },
  {
   "cell_type": "markdown",
   "metadata": {
    "colab_type": "text",
    "id": "39P-deDSVp-y"
   },
   "source": [
    "# 6. Какой самый прибыльный фильм?\n",
    "#### Внимание! Здесь и далее под «прибылью» или «убытками» понимается разность между сборами и бюджетом фильма. (прибыль = сборы - бюджет) в нашем датасете это будет (profit = revenue - budget) "
   ]
  },
  {
   "cell_type": "code",
   "execution_count": 48,
   "metadata": {
    "colab": {},
    "colab_type": "code",
    "id": "UYZh4T9WVp-y"
   },
   "outputs": [
    {
     "data": {
      "text/plain": [
       "239    Avatar\n",
       "Name: original_title, dtype: object"
      ]
     },
     "metadata": {},
     "output_type": "display_data"
    }
   ],
   "source": [
    "# лучше код получения столбца profit вынести в Предобработку что в начале\n",
    "answers['6'] = '5. Avatar (tt0499549)' #+\n",
    "profit_max = data[(data.profit == data.profit.max())].original_title\n",
    "display(profit_max)\n"
   ]
  },
  {
   "cell_type": "markdown",
   "metadata": {
    "colab_type": "text",
    "id": "M99JmIX4Vp-2"
   },
   "source": [
    "# 7. Какой фильм самый убыточный? "
   ]
  },
  {
   "cell_type": "code",
   "execution_count": 49,
   "metadata": {
    "colab": {},
    "colab_type": "code",
    "id": "w-D2m4XPVp-3"
   },
   "outputs": [
    {
     "data": {
      "text/plain": [
       "1245    The Lone Ranger\n",
       "Name: original_title, dtype: object"
      ]
     },
     "metadata": {},
     "output_type": "display_data"
    }
   ],
   "source": [
    "answers['7'] = '5. The Lone Ranger (tt1210819)'\n",
    "profit_min = data[(data.profit == data.profit.min())].original_title\n",
    "display(profit_min)"
   ]
  },
  {
   "cell_type": "markdown",
   "metadata": {
    "colab_type": "text",
    "id": "wEOM5ERVVp-6"
   },
   "source": [
    "# 8. У скольких фильмов из датасета объем сборов оказался выше бюджета?"
   ]
  },
  {
   "cell_type": "code",
   "execution_count": 50,
   "metadata": {
    "colab": {},
    "colab_type": "code",
    "id": "y00_7HD6Vp-7"
   },
   "outputs": [
    {
     "data": {
      "text/plain": [
       "1478"
      ]
     },
     "metadata": {},
     "output_type": "display_data"
    }
   ],
   "source": [
    "answers['8'] = '1. 1478' #+\n",
    "count_profit = data[(data.profit > 0)].original_title.count()\n",
    "display(count_profit)"
   ]
  },
  {
   "cell_type": "markdown",
   "metadata": {
    "colab_type": "text",
    "id": "xhpspA9KVp_A"
   },
   "source": [
    "# 9. Какой фильм оказался самым кассовым в 2008 году?"
   ]
  },
  {
   "cell_type": "code",
   "execution_count": 51,
   "metadata": {
    "colab": {},
    "colab_type": "code",
    "id": "MoUyQr9RVp_B"
   },
   "outputs": [
    {
     "data": {
      "text/plain": [
       "'The Dark Knight'"
      ]
     },
     "execution_count": 51,
     "metadata": {},
     "output_type": "execute_result"
    }
   ],
   "source": [
    "answers['9'] = '4. The Dark Knight (tt0468569)' #+\n",
    "movie_2008 = data[(data.release_year == 2008)].revenue.idxmax()\n",
    "data.loc[movie_2008].original_title"
   ]
  },
  {
   "cell_type": "markdown",
   "metadata": {
    "colab_type": "text",
    "id": "Zi4hDKidVp_F"
   },
   "source": [
    "# 10. Самый убыточный фильм за период с 2012 по 2014 г. (включительно)?\n"
   ]
  },
  {
   "cell_type": "code",
   "execution_count": 52,
   "metadata": {
    "colab": {},
    "colab_type": "code",
    "id": "XqyRmufJVp_F"
   },
   "outputs": [
    {
     "data": {
      "text/plain": [
       "1245    The Lone Ranger\n",
       "Name: original_title, dtype: object"
      ]
     },
     "execution_count": 52,
     "metadata": {},
     "output_type": "execute_result"
    }
   ],
   "source": [
    "answers['10'] = '5. The Lone Ranger (tt1210819)' #+\n",
    "movie_1214.sort_values(by = 'profit', ascending = True).head(1).original_title"
   ]
  },
  {
   "cell_type": "markdown",
   "metadata": {
    "colab_type": "text",
    "id": "EA7Sa9dkVp_I"
   },
   "source": [
    "# 11. Какого жанра фильмов больше всего?"
   ]
  },
  {
   "cell_type": "code",
   "execution_count": 53,
   "metadata": {
    "colab": {},
    "colab_type": "code",
    "id": "zsJAwJ8QVp_J"
   },
   "outputs": [
    {
     "data": {
      "text/plain": [
       "Index(['Drama'], dtype='object')"
      ]
     },
     "execution_count": 53,
     "metadata": {},
     "output_type": "execute_result"
    }
   ],
   "source": [
    "# эту задачу тоже можно решать разными подходами, попробуй реализовать разные варианты\n",
    "# если будешь добавлять функцию - выноси ее в предобработку что в начале\n",
    "answers['11'] = '3. Drama' #+\n",
    "genres = pd.Series(data['genres'].str.cat(sep = '|').split('|')) # Получение жанров каждого фильма \n",
    "genres.value_counts(ascending = False).head(1).index # Индекс наиболее частотного жанра"
   ]
  },
  {
   "cell_type": "markdown",
   "metadata": {
    "colab_type": "text",
    "id": "Ax6g2C8SVp_M"
   },
   "source": [
    "ВАРИАНТ 2"
   ]
  },
  {
   "cell_type": "code",
   "execution_count": 0,
   "metadata": {
    "colab": {},
    "colab_type": "code",
    "id": "otO3SbrSVp_N"
   },
   "outputs": [],
   "source": [
    "\n"
   ]
  },
  {
   "cell_type": "markdown",
   "metadata": {
    "colab_type": "text",
    "id": "T9_bPWpkVp_Q"
   },
   "source": [
    "# 12. Фильмы какого жанра чаще всего становятся прибыльными? "
   ]
  },
  {
   "cell_type": "code",
   "execution_count": 54,
   "metadata": {
    "colab": {},
    "colab_type": "code",
    "id": "Tmt8MaK1Vp_R"
   },
   "outputs": [
    {
     "data": {
      "text/plain": [
       "Index(['Drama'], dtype='object')"
      ]
     },
     "execution_count": 54,
     "metadata": {},
     "output_type": "execute_result"
    }
   ],
   "source": [
    "answers['12'] = '1. Drama' #+\n",
    "genres = pd.Series(movie_profit['genres'] \\\n",
    "                   .str.cat(sep = '|').split('|')) # Жанры прибыльных фильмов\n",
    "genres.value_counts(ascending = False).head(1).index "
   ]
  },
  {
   "cell_type": "markdown",
   "metadata": {
    "colab_type": "text",
    "id": "0F23bgsDVp_U"
   },
   "source": [
    "# 13. У какого режиссера самые большие суммарные кассовые сбооры?"
   ]
  },
  {
   "cell_type": "code",
   "execution_count": 55,
   "metadata": {
    "colab": {},
    "colab_type": "code",
    "id": "K6Z3J8ygVp_X"
   },
   "outputs": [
    {
     "data": {
      "text/plain": [
       "Index(['Peter Jackson'], dtype='object')"
      ]
     },
     "execution_count": 55,
     "metadata": {},
     "output_type": "execute_result"
    }
   ],
   "source": [
    "answers['13'] = '5. Peter Jackson' #+\n",
    "list_dir = [] # Создать список всех режиссёров\n",
    "for directors in data.director:\n",
    "    for director in directors.split('|'):\n",
    "        list_dir.append(director)\n",
    "movie_directors = pd.Series(index = list_dir, dtype = 'object') # Создание Series, где индексы - режиссёры\n",
    " # В цикле в Series добавляется суммарное значение кассовых сборов фильмов каждого режиссёра\n",
    "for i in movie_directors.index:\n",
    "    movie_directors[i] = data['revenue'] \\\n",
    "    [data.director.map(lambda x:True if i in x else False)].sum()  \n",
    "movie_directors.sort_values(ascending = False).head(1).index "
   ]
  },
  {
   "cell_type": "markdown",
   "metadata": {
    "colab_type": "text",
    "id": "PsYC9FgRVp_a"
   },
   "source": [
    "# 14. Какой режисер снял больше всего фильмов в стиле Action?"
   ]
  },
  {
   "cell_type": "code",
   "execution_count": 56,
   "metadata": {
    "colab": {},
    "colab_type": "code",
    "id": "wd2M-wHeVp_b"
   },
   "outputs": [
    {
     "data": {
      "text/plain": [
       "Index(['Robert Rodriguez'], dtype='object')"
      ]
     },
     "execution_count": 56,
     "metadata": {},
     "output_type": "execute_result"
    }
   ],
   "source": [
    "answers['14'] = '3. Robert Rodriguez' #+\n",
    "list_dir = movie_Action['director'].str.cat(sep = '|').split('|') # Список режиссёров, работавших в жанре Action\n",
    "series_dir = pd.Series(list_dir)\n",
    "series_dir.value_counts().head(1).index # Имя режиссёра, который упоминался в этом жанре чаще всех"
   ]
  },
  {
   "cell_type": "markdown",
   "metadata": {
    "colab_type": "text",
    "id": "PQ0KciD7Vp_f"
   },
   "source": [
    "# 15. Фильмы с каким актером принесли самые высокие кассовые сборы в 2012 году? "
   ]
  },
  {
   "cell_type": "code",
   "execution_count": 84,
   "metadata": {
    "colab": {},
    "colab_type": "code",
    "id": "aga62oeKVp_g"
   },
   "outputs": [
    {
     "data": {
      "text/plain": [
       "Index(['Chris Hemsworth'], dtype='object')"
      ]
     },
     "execution_count": 84,
     "metadata": {},
     "output_type": "execute_result"
    }
   ],
   "source": [
    "answers['15'] = '3. Chris Hemsworth' #+\n",
    "list_cast = []\n",
    "for actors in movie_2012.cast:\n",
    "    for actor in actors.split('|'):\n",
    "        list_cast.append(actor)\n",
    "movie_cast = pd.Series(index = list_cast, dtype = 'object') # Актёры, которые снимались в 2012 году\n",
    "\n",
    " # В цикле в Series добавляются значения кассовых сборов фильмов, в которых снимался каждый актёр\n",
    "for i in movie_cast.index:\n",
    "    movie_cast[i] = movie_2012['revenue'] \\\n",
    "    [movie_2012['cast'].map(lambda x: True if i in x else False)] \n",
    "movie_cast.groupby(movie_cast.index).sum().sort_values(ascending = False).head(1).index\n"
   ]
  },
  {
   "cell_type": "markdown",
   "metadata": {
    "colab_type": "text",
    "id": "mWHyyL7QVp_j"
   },
   "source": [
    "# 16. Какой актер снялся в большем количестве высокобюджетных фильмов?"
   ]
  },
  {
   "cell_type": "code",
   "execution_count": 58,
   "metadata": {
    "colab": {},
    "colab_type": "code",
    "id": "qQtmHKTFVp_k"
   },
   "outputs": [
    {
     "data": {
      "text/plain": [
       "Index(['Matt Damon'], dtype='object')"
      ]
     },
     "execution_count": 58,
     "metadata": {},
     "output_type": "execute_result"
    }
   ],
   "source": [
    "answers['16'] = '3. Matt Damon' #+\n",
    "list_cast = movie_budget['cast'].str.cat(sep = '|').split('|')\n",
    "series_cast = pd.Series(list_cast)\n",
    "series_cast.value_counts().head(1).index"
   ]
  },
  {
   "cell_type": "markdown",
   "metadata": {
    "colab_type": "text",
    "id": "NIh6AaW5Vp_n"
   },
   "source": [
    "# 17. В фильмах какого жанра больше всего снимался Nicolas Cage? "
   ]
  },
  {
   "cell_type": "code",
   "execution_count": 59,
   "metadata": {
    "colab": {},
    "colab_type": "code",
    "id": "H74SJDIBVp_n"
   },
   "outputs": [
    {
     "data": {
      "text/plain": [
       "Index(['Action'], dtype='object')"
      ]
     },
     "execution_count": 59,
     "metadata": {},
     "output_type": "execute_result"
    }
   ],
   "source": [
    "answers['17'] = '1. Action' #+\n",
    "list_genres = movie_Cage['genres'].str.cat(sep = '|').split('|') #  Список жанров, в которых снимался Николас\n",
    "series_genres = pd.Series(list_genres)\n",
    "series_genres.value_counts().head(1).index"
   ]
  },
  {
   "cell_type": "markdown",
   "metadata": {
    "colab_type": "text",
    "id": "RqOmPRfWVp_q"
   },
   "source": [
    "# 18. Самый убыточный фильм от Paramount Pictures"
   ]
  },
  {
   "cell_type": "code",
   "execution_count": 60,
   "metadata": {
    "colab": {},
    "colab_type": "code",
    "id": "9E_B0Y96Vp_r"
   },
   "outputs": [
    {
     "data": {
      "text/plain": [
       "925    K-19: The Widowmaker\n",
       "Name: original_title, dtype: object"
      ]
     },
     "execution_count": 60,
     "metadata": {},
     "output_type": "execute_result"
    }
   ],
   "source": [
    "answers['18'] = '1. K-19: The Widowmaker (tt0267626)' #+\n",
    "movie_Paramount.sort_values(by = 'profit', ascending = True).head(1).original_title\n",
    "# Сортировка по возрастанию и выведение фильма с меньшим значением прибыли"
   ]
  },
  {
   "cell_type": "markdown",
   "metadata": {
    "colab_type": "text",
    "id": "vS8Ur6ddVp_u"
   },
   "source": [
    "# 19. Какой год стал самым успешным по суммарным кассовым сборам?"
   ]
  },
  {
   "cell_type": "code",
   "execution_count": 61,
   "metadata": {
    "colab": {},
    "colab_type": "code",
    "id": "Dnbt4GdIVp_v"
   },
   "outputs": [
    {
     "data": {
      "text/plain": [
       "Int64Index([2015], dtype='int64', name='release_year')"
      ]
     },
     "metadata": {},
     "output_type": "display_data"
    }
   ],
   "source": [
    "answers['19'] = '5. 2015' #+\n",
    "# Группировка по году выпуска, суммирование кассовых сборов и сортировка по убыванию\n",
    "best_year = data.groupby(['release_year'])['revenue'] \\\n",
    ".sum().sort_values(ascending = False) \n",
    "display(best_year.head(1).index)"
   ]
  },
  {
   "cell_type": "markdown",
   "metadata": {
    "colab_type": "text",
    "id": "JAzJh4QAVp_z"
   },
   "source": [
    "# 20. Какой самый прибыльный год для студии Warner Bros?"
   ]
  },
  {
   "cell_type": "code",
   "execution_count": 62,
   "metadata": {
    "colab": {},
    "colab_type": "code",
    "id": "wgVu02DEVp_0"
   },
   "outputs": [
    {
     "data": {
      "text/plain": [
       "Int64Index([2014], dtype='int64', name='release_year')"
      ]
     },
     "metadata": {},
     "output_type": "display_data"
    }
   ],
   "source": [
    "answers['20'] = '1. 2014' #+\n",
    "# Группировка по году выпуска, суммирование кассовых сборов и сортировка по убыванию\n",
    "movie_gr = movie_Warner.groupby(['release_year']) \\\n",
    "['revenue'].sum().sort_values(ascending = False) \n",
    "display(movie_gr.head(1).index)\n"
   ]
  },
  {
   "cell_type": "markdown",
   "metadata": {
    "colab_type": "text",
    "id": "8Im1S2HRVp_4"
   },
   "source": [
    "# 21. В каком месяце за все годы суммарно вышло больше всего фильмов?"
   ]
  },
  {
   "cell_type": "code",
   "execution_count": 63,
   "metadata": {
    "colab": {},
    "colab_type": "code",
    "id": "lev6TH7gVp_4"
   },
   "outputs": [
    {
     "data": {
      "text/plain": [
       "Index(['9'], dtype='object')"
      ]
     },
     "execution_count": 63,
     "metadata": {},
     "output_type": "execute_result"
    }
   ],
   "source": [
    "answers['21'] = '4. Сентябрь' #+\n",
    "movie_month = data.month. \\\n",
    "value_counts(ascending = False) # Количества фильмов в каждом месяце, отсортированные по убыванию\n",
    "movie_month.head(1).index"
   ]
  },
  {
   "cell_type": "markdown",
   "metadata": {
    "colab_type": "text",
    "id": "uAJsZ_NeVp_7"
   },
   "source": [
    "# 22. Сколько суммарно вышло фильмов летом? (за июнь, июль, август)"
   ]
  },
  {
   "cell_type": "code",
   "execution_count": 83,
   "metadata": {
    "colab": {},
    "colab_type": "code",
    "id": "Aa-hEREoVp_8"
   },
   "outputs": [
    {
     "name": "stdout",
     "output_type": "stream",
     "text": [
      "450\n"
     ]
    }
   ],
   "source": [
    "answers['22'] = '2. 450' #+\n",
    "# Суммирование количеств фильмов в 6, 7 и 8 месяцах, взятых из Series предыдущего вопроса\n",
    "summer = movie_month.loc[\"6\"] \\\n",
    "        +movie_month.loc[\"7\"] \\\n",
    "        +movie_month.loc[\"8\"]\n",
    "print(summer)\n"
   ]
  },
  {
   "cell_type": "markdown",
   "metadata": {
    "colab_type": "text",
    "id": "G94ppOY1VqAA"
   },
   "source": [
    "# 23. Для какого режиссера зима – самое продуктивное время года? "
   ]
  },
  {
   "cell_type": "code",
   "execution_count": 73,
   "metadata": {
    "colab": {},
    "colab_type": "code",
    "id": "RhNTsamuVqAB"
   },
   "outputs": [
    {
     "data": {
      "text/plain": [
       "Index(['Peter Jackson'], dtype='object')"
      ]
     },
     "execution_count": 73,
     "metadata": {},
     "output_type": "execute_result"
    }
   ],
   "source": [
    "answers['23'] = '5. Peter Jackson' #+\n",
    "list_dir = movie_winter['director'].str.cat(sep = '|').split('|') # Список режиссёров, снимавших фильмы, вышедшие зимой\n",
    "series_dir = pd.Series(list_dir)\n",
    "series_dir.value_counts().head(1).index \n"
   ]
  },
  {
   "cell_type": "markdown",
   "metadata": {
    "colab_type": "text",
    "id": "RBo0JVjVVqAF"
   },
   "source": [
    "# 24. Какая студия дает самые длинные названия своим фильмам по количеству символов?"
   ]
  },
  {
   "cell_type": "code",
   "execution_count": 75,
   "metadata": {
    "colab": {},
    "colab_type": "code",
    "id": "QRGS8L0iVqAG"
   },
   "outputs": [
    {
     "data": {
      "text/plain": [
       "Index(['Four By Two Productions'], dtype='object', name='list_production')"
      ]
     },
     "metadata": {},
     "output_type": "display_data"
    }
   ],
   "source": [
    "answers['24'] = '5. Four By Two Productions' #+\n",
    "movie_production = data.explode('list_production') \\\n",
    "                       .groupby('list_production') \\\n",
    "                       .length_title.mean() # Группировка по режиссёрам и рассчёт среднего значения длин названий фильмов\n",
    "display(movie_production.sort_values(ascending = False).head(1).index) \n"
   ]
  },
  {
   "cell_type": "markdown",
   "metadata": {
    "colab_type": "text",
    "id": "9G0hbvR7VqAK"
   },
   "source": [
    "# 25. Описание фильмов какой студии в среднем самые длинные по количеству слов?"
   ]
  },
  {
   "cell_type": "code",
   "execution_count": 76,
   "metadata": {
    "colab": {},
    "colab_type": "code",
    "id": "Ge2GsLNxVqAK"
   },
   "outputs": [
    {
     "data": {
      "text/plain": [
       "Index(['Midnight Picture Show'], dtype='object', name='list_production')"
      ]
     },
     "metadata": {},
     "output_type": "display_data"
    }
   ],
   "source": [
    "answers['25'] = '3. Midnight Picture Show' #+\n",
    "movie_production = data.explode('list_production') \\\n",
    "                       .groupby('list_production') \\\n",
    "                       .count_words.mean() # Группировка по режиссёрам и рассчёт среднего значения длин описаний фильмов\n",
    "display(movie_production.sort_values(ascending = False).head(1).index) "
   ]
  },
  {
   "cell_type": "markdown",
   "metadata": {
    "colab_type": "text",
    "id": "FJ1AFt90VqAP"
   },
   "source": [
    "# 26. Какие фильмы входят в 1 процент лучших по рейтингу? \n",
    "по vote_average"
   ]
  },
  {
   "cell_type": "code",
   "execution_count": 77,
   "metadata": {
    "colab": {},
    "colab_type": "code",
    "id": "8qmJVq4CVqAQ"
   },
   "outputs": [
    {
     "data": {
      "text/plain": [
       "18.89"
      ]
     },
     "metadata": {},
     "output_type": "display_data"
    },
    {
     "data": {
      "text/plain": [
       "599                                   The Dark Knight\n",
       "118                                      Interstellar\n",
       "125                                The Imitation Game\n",
       "9                                          Inside Out\n",
       "34                                               Room\n",
       "1183                          The Wolf of Wall Street\n",
       "128                                         Gone Girl\n",
       "1191                                 12 Years a Slave\n",
       "119                           Guardians of the Galaxy\n",
       "1081    The Lord of the Rings: The Return of the King\n",
       "1800                                          Memento\n",
       "370                                         Inception\n",
       "872                                       The Pianist\n",
       "138                          The Grand Budapest Hotel\n",
       "1188                                              Her\n",
       "28                                          Spotlight\n",
       "124                                        Big Hero 6\n",
       "177                            The Fault in Our Stars\n",
       "863             The Lord of the Rings: The Two Towers\n",
       "Name: original_title, dtype: object"
      ]
     },
     "metadata": {},
     "output_type": "display_data"
    }
   ],
   "source": [
    "answers['26'] = '1. Inside Out, The Dark Knight, 12 Years a Slave' #+\n",
    "movie_ratings = data[['vote_average', 'original_title']] \\\n",
    "                .sort_values(by = 'vote_average', ascending = False) # Сортировка названий по рейтингу по убыванию \n",
    "display(movie_ratings.count().original_title*0.01) # Сколько фильмов составляют 1%\n",
    "display(movie_ratings.original_title.head(19)) # Выводятся названия фильмов с лучшим рейтингом, входящие в это количество\n"
   ]
  },
  {
   "cell_type": "markdown",
   "metadata": {
    "colab_type": "text",
    "id": "MdXsUXbCVqAV"
   },
   "source": [
    "# 27. Какие актеры чаще всего снимаются в одном фильме вместе?\n"
   ]
  },
  {
   "cell_type": "code",
   "execution_count": 78,
   "metadata": {
    "colab_type": "text",
    "id": "4ymnxEVoVqAW"
   },
   "outputs": [
    {
     "data": {
      "text/plain": [
       "Daniel Radcliffe  Emma Watson             8\n",
       "                  Rupert Grint            8\n",
       "Rupert Grint      Emma Watson             7\n",
       "Johnny Depp       Helena Bonham Carter    6\n",
       "Ben Stiller       Owen Wilson             6\n",
       "                                         ..\n",
       "Emma Stone        Josh Brolin             1\n",
       "Ryan Gosling      Nick Nolte              1\n",
       "                  Josh Brolin             1\n",
       "Sean Penn         Nick Nolte              1\n",
       "Chris Pratt       Bryce Dallas Howard     1\n",
       "Length: 18121, dtype: int64"
      ]
     },
     "execution_count": 78,
     "metadata": {},
     "output_type": "execute_result"
    }
   ],
   "source": [
    "answers['27'] = '5. Daniel Radcliffe & Rupert Grint' #+\n",
    "counter = {} # Счётчик того, сколько раз пара встретилась\n",
    "for i in data.list_actors: \n",
    "    for j in list(combinations (i,2)): \n",
    "        if j in counter:  \n",
    "            counter[j] += 1 # Если пара уже ключ в счётчике - значение для неё увеличивается на 1\n",
    "        else:\n",
    "            counter[j] = 1 # Если пара встретилась впервые, она становится ключом в счётчике и принимает значение 1\n",
    "counter_act = pd.Series(counter)\n",
    "counter_act.sort_values(ascending = False) \n",
    "\n"
   ]
  },
  {
   "cell_type": "markdown",
   "metadata": {
    "colab_type": "text",
    "id": "U0nONFnGVqAX"
   },
   "source": [
    "# Submission"
   ]
  },
  {
   "cell_type": "code",
   "execution_count": 81,
   "metadata": {
    "colab": {},
    "colab_type": "code",
    "id": "IfcaRO9-VqAX",
    "outputId": "0f132912-32bb-4196-c98c-abfbc4ad5a5f"
   },
   "outputs": [
    {
     "data": {
      "text/plain": [
       "{'12': '1. Drama',\n",
       " '13': '5. Peter Jackson',\n",
       " '1': '5. Pirates of the Caribbean: On Stranger Tides (tt1298650)',\n",
       " '2': '2. Gods and Generals (tt0279111)',\n",
       " '3': '3. Winnie the Pooh (tt1449283)',\n",
       " '4': '2. 110',\n",
       " '5': '1. 107',\n",
       " '6': '5. Avatar (tt0499549)',\n",
       " '7': '5. The Lone Ranger (tt1210819)',\n",
       " '8': '1. 1478',\n",
       " '9': '4. The Dark Knight (tt0468569)',\n",
       " '10': '5. The Lone Ranger (tt1210819)',\n",
       " '11': '3. Drama',\n",
       " '14': '3. Robert Rodriguez',\n",
       " '15': '3. Chris Hemsworth',\n",
       " '16': '3. Matt Damon',\n",
       " '17': '1. Action',\n",
       " '18': '1. K-19: The Widowmaker (tt0267626)',\n",
       " '19': '5. 2015',\n",
       " '20': '1. 2014',\n",
       " '21': '4. Сентябрь',\n",
       " '22': '2. 450',\n",
       " '23': '5. Peter Jackson',\n",
       " '24': '5. Four By Two Productions',\n",
       " '25': '3. Midnight Picture Show',\n",
       " '26': '1. Inside Out, The Dark Knight, 12 Years a Slave',\n",
       " '27': '5. Daniel Radcliffe & Rupert Grint'}"
      ]
     },
     "execution_count": 81,
     "metadata": {},
     "output_type": "execute_result"
    }
   ],
   "source": [
    "# в конце можно посмотреть свои ответы к каждому вопросу\n",
    "answers"
   ]
  },
  {
   "cell_type": "code",
   "execution_count": 82,
   "metadata": {
    "colab": {},
    "colab_type": "code",
    "id": "SiRmHPl8VqAd"
   },
   "outputs": [
    {
     "data": {
      "text/plain": [
       "27"
      ]
     },
     "execution_count": 82,
     "metadata": {},
     "output_type": "execute_result"
    }
   ],
   "source": [
    "# и убедиться что ни чего не пропустил)\n",
    "len(answers)"
   ]
  },
  {
   "cell_type": "code",
   "execution_count": 0,
   "metadata": {
    "colab": {},
    "colab_type": "code",
    "id": "uCfuTkRbVqAg"
   },
   "outputs": [],
   "source": []
  },
  {
   "cell_type": "code",
   "execution_count": 0,
   "metadata": {
    "colab": {},
    "colab_type": "code",
    "id": "Vwx3NrkSVqAl"
   },
   "outputs": [],
   "source": []
  }
 ],
 "metadata": {
  "colab": {
   "name": "Copy of [SF-DST] Movies IMBD v4.1 TEMPLATE.ipynb",
   "provenance": []
  },
  "kernelspec": {
   "display_name": "Python 3",
   "language": "python",
   "name": "python3"
  },
  "language_info": {
   "codemirror_mode": {
    "name": "ipython",
    "version": 3
   },
   "file_extension": ".py",
   "mimetype": "text/x-python",
   "name": "python",
   "nbconvert_exporter": "python",
   "pygments_lexer": "ipython3",
   "version": "3.8.3"
  }
 },
 "nbformat": 4,
 "nbformat_minor": 1
}
